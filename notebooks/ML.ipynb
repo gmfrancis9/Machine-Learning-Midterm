{
 "cells": [
  {
   "cell_type": "code",
   "execution_count": 2,
   "metadata": {},
   "outputs": [
    {
     "name": "stderr",
     "output_type": "stream",
     "text": [
      "Matplotlib is building the font cache; this may take a moment.\n"
     ]
    }
   ],
   "source": [
    "import numpy as np\n",
    "import matplotlib.pyplot as plt\n",
    "\n",
    "# Generate random data\n",
    "np.random.seed(42)"
   ]
  },
  {
   "cell_type": "code",
   "execution_count": 3,
   "metadata": {},
   "outputs": [],
   "source": [
    "a_true, b_true = 2.5, -1.0\n",
    "n_points = 100\n",
    "\n",
    "x = np.random.uniform(-2,3,n_points)\n",
    "y = a_true * x + b_true + np.random.normal(0, 0.5, n_points)\n",
    "\n",
    "split_idx = int(0.8 * n_points)\n",
    "x_train, x_test = x[:split_idx], x[split_idx:]\n",
    "y_train, y_test = y[:split_idx], y[split_idx:]"
   ]
  },
  {
   "cell_type": "code",
   "execution_count": 4,
   "metadata": {},
   "outputs": [
    {
     "name": "stdout",
     "output_type": "stream",
     "text": [
      "MSE Loss: 0.20321589412252677\n"
     ]
    }
   ],
   "source": [
    "# define model and loss function (evaluate model performance)\n",
    "def predict (a, b, x):\n",
    "    return a * x + b\n",
    "def mse_loss (a, b, x, y):\n",
    "    predictions = predict(a, b, x)\n",
    "    residulas = y - predictions\n",
    "    return np.mean(residulas**2)\n",
    "true_loss = mse_loss(a_true, b_true, x_train, y_train)\n",
    "\n",
    "print(f\"MSE Loss: {true_loss}\")"
   ]
  },
  {
   "cell_type": "code",
   "execution_count": 11,
   "metadata": {},
   "outputs": [
    {
     "name": "stdout",
     "output_type": "stream",
     "text": [
      "grid search complete:\n"
     ]
    }
   ],
   "source": [
    "# brute force grid search\n",
    "a_grid = np.linspace (-1, 5, 8000) #201 values for slope\n",
    "b_grid = np.linspace (-1,2,8000) #201 values for intercept\n",
    "\n",
    "A_mesh, B_mesh = np.meshgrid(a_grid, b_grid)\n",
    "loss_grid = np.zeros_like(A_mesh)\n",
    "\n",
    "\n",
    "\n",
    "for i, a in enumerate(a_grid):\n",
    "    for j, b in enumerate(b_grid):\n",
    "        loss_grid[i,j] = mse_loss(a, b, x_train, y_train)\n",
    "\n",
    "print(\"grid search complete:\")"
   ]
  },
  {
   "cell_type": "code",
   "execution_count": 12,
   "metadata": {},
   "outputs": [
    {
     "name": "stdout",
     "output_type": "stream",
     "text": [
      "Best parameters: a=2.435429428678585, b=-1.0, MSE Loss=0.19317803720640842\n"
     ]
    }
   ],
   "source": [
    "min_idx = np. unravel_index(np.argmin(loss_grid), loss_grid.shape)\n",
    "a_best = a_grid[min_idx[0]]\n",
    "b_best = b_grid[min_idx[1]]\n",
    "best_loss = loss_grid[min_idx]\n",
    "print(f\"Best parameters: a={a_best}, b={b_best}, MSE Loss={best_loss}\")"
   ]
  }
 ],
 "metadata": {
  "kernelspec": {
   "display_name": "Python 3",
   "language": "python",
   "name": "python3"
  },
  "language_info": {
   "codemirror_mode": {
    "name": "ipython",
    "version": 3
   },
   "file_extension": ".py",
   "mimetype": "text/x-python",
   "name": "python",
   "nbconvert_exporter": "python",
   "pygments_lexer": "ipython3",
   "version": "3.9.6"
  }
 },
 "nbformat": 4,
 "nbformat_minor": 2
}
